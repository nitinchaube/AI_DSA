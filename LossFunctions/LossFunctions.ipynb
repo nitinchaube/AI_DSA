{
 "cells": [
  {
   "cell_type": "markdown",
   "metadata": {},
   "source": [
    "## Loss Functions:\n",
    "### I am going to cover lots of Loss Function with some analogy i.e. when and where they should be used.\n",
    "    1- MSE\n",
    "    2- MAE\n",
    "    3- Huber\n",
    "    4- CrossEntropy\n",
    "    5- Hinge Loss\n",
    "    6- Focul Loss\n",
    "    7- Triplet Loss\n",
    "    8- Contrastive Loss\n",
    "    9- KL (Kullback-Leibler Divergence)\n",
    "    10- Dice Loss / Jaccord Loss)\n",
    "    11- Label Smoothing Loss\n",
    "    12- CTC Loss (Connectionist Temporal Classification)\n",
    "    13- Wasserstein Loss\n",
    "    14- Perceptual Loss\n",
    "    15- InfoNCE Loss"
   ]
  },
  {
   "cell_type": "markdown",
   "metadata": {},
   "source": [
    "## 1- MSE (Mean Squared Error)\n",
    "Imagine you are throwing dart and the let bulls eye is y_true and you get little away from bullseye (y_pred) so MSE will be average squared distance of each dart from the bullseye <br><br>\n",
    "<b>MSE = 1/n(mean((y_true - y_pred)^2)) </b> <br>\n",
    "<br>\n",
    "\n",
    "Pros: Smooth gradient , easy to optimize  <BR>\n",
    "Cons: Very Sensitive with outliers"
   ]
  },
  {
   "cell_type": "code",
   "execution_count": 1,
   "metadata": {},
   "outputs": [],
   "source": [
    "import numpy as np\n",
    "def MSE(y_true, y_pred):\n",
    "    return np.mean((y_true-y_pred)**2)"
   ]
  },
  {
   "cell_type": "code",
   "execution_count": 3,
   "metadata": {},
   "outputs": [],
   "source": [
    "#Gradient of MSE\n",
    "def grad_MSE(y_true, y_pred):\n",
    "    return 2*(y_true-y_pred)/len(y_true)"
   ]
  },
  {
   "cell_type": "markdown",
   "metadata": {},
   "source": [
    "## 2- MAE (Mean Absolute Error) <br>\n",
    "Here unline MSE, you dont get penalized more for being way off, in simple terms a miss is a miss, doesn't matter how big it is. <BR> <br>\n",
    "<b>MAE = np.mean(mean(y_true-y_pred))</b> <br>\n",
    "<br>\n",
    "Pros: Robust to outliers <br>\n",
    "Cons: Non-differential at zero, gradients are not smooth\n",
    "\n"
   ]
  },
  {
   "cell_type": "code",
   "execution_count": 7,
   "metadata": {},
   "outputs": [],
   "source": [
    "def MAE(y_true, y_pred):\n",
    "    return np.mean(np.abs(y_true - y_pred))"
   ]
  },
  {
   "cell_type": "code",
   "execution_count": 8,
   "metadata": {},
   "outputs": [],
   "source": [
    "#Gradient of MAE\n",
    "def grad_MAE(y_true, y_pred):\n",
    "    return (y_pred-y_true) # i.e. negative if underpredicted, positive if over predicted."
   ]
  },
  {
   "cell_type": "markdown",
   "metadata": {},
   "source": [
    "## 3: Huber Loss\n",
    "a. Imagine you are driving a self-driving car and the GPS signal is jittery. Most of the time its accurate but sometime it goes far somewhere else.<br>\n",
    "b. You want to trust the small errors (use MSE for precision)<br>\n",
    "c. You don’t want to panic over rare, huge blips (use MAE for robustness)<br> <br>\n",
    "<b>Huber is the peace between MSE and MAE<b>"
   ]
  },
  {
   "cell_type": "code",
   "execution_count": 15,
   "metadata": {},
   "outputs": [],
   "source": [
    "def huber_loss(y_true, y_pred, delta):\n",
    "    error = np.abs(y_true - y_pred)\n",
    "    condition = error <= delta\n",
    "    return np.mean(np.where(condition, 0.5*(error)**2, delta*(error-0.5*delta)))"
   ]
  },
  {
   "cell_type": "code",
   "execution_count": 16,
   "metadata": {},
   "outputs": [],
   "source": [
    "def grad_huber_loss(y_true, y_pred, delta):\n",
    "    error = y_pred-y_true\n",
    "    return np.mean(np.where(np.abs(error)<=delta), error, delta*np.sign(error))/len(y_true)"
   ]
  },
  {
   "cell_type": "code",
   "execution_count": null,
   "metadata": {},
   "outputs": [],
   "source": []
  },
  {
   "cell_type": "code",
   "execution_count": null,
   "metadata": {},
   "outputs": [],
   "source": []
  },
  {
   "cell_type": "code",
   "execution_count": null,
   "metadata": {},
   "outputs": [],
   "source": []
  }
 ],
 "metadata": {
  "kernelspec": {
   "display_name": "tf-gpu",
   "language": "python",
   "name": "python3"
  },
  "language_info": {
   "codemirror_mode": {
    "name": "ipython",
    "version": 3
   },
   "file_extension": ".py",
   "mimetype": "text/x-python",
   "name": "python",
   "nbconvert_exporter": "python",
   "pygments_lexer": "ipython3",
   "version": "3.12.9"
  }
 },
 "nbformat": 4,
 "nbformat_minor": 2
}
