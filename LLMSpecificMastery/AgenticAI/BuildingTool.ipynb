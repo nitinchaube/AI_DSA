{
 "cells": [
  {
   "cell_type": "code",
   "execution_count": 1,
   "metadata": {},
   "outputs": [],
   "source": [
    "from supabase import create_client, Client \n",
    "from openai import OpenAI \n",
    "from diffusers import StableDiffusionPipeline, DiffusionPipeline\n",
    "from serpapi import GoogleSearch\n",
    "from pydantic import BaseModel, Field\n",
    "import datetime \n",
    "import re \n",
    "import os\n",
    "import sys \n",
    "import torch\n",
    "from copy import copy \n",
    "from functools import lru_cache\n",
    "from io import StringIO\n",
    "from typing import Dict, Optional, Any, List, Tuple "
   ]
  },
  {
   "cell_type": "code",
   "execution_count": null,
   "metadata": {},
   "outputs": [],
   "source": []
  }
 ],
 "metadata": {
  "kernelspec": {
   "display_name": ".agenticAIVenv",
   "language": "python",
   "name": "python3"
  },
  "language_info": {
   "codemirror_mode": {
    "name": "ipython",
    "version": 3
   },
   "file_extension": ".py",
   "mimetype": "text/x-python",
   "name": "python",
   "nbconvert_exporter": "python",
   "pygments_lexer": "ipython3",
   "version": "3.11.13"
  }
 },
 "nbformat": 4,
 "nbformat_minor": 2
}
