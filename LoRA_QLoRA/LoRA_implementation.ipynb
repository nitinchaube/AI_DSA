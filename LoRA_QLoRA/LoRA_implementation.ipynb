{
 "cells": [
  {
   "cell_type": "markdown",
   "id": "1ebf41a8-da24-47e5-8d56-9e129feda333",
   "metadata": {},
   "source": [
    "## Rank Decomposition\n",
    "#### Replacing a full-rank matrix with a low rank approximation"
   ]
  },
  {
   "cell_type": "raw",
   "id": "847e2413-673f-48e5-8772-91e1b748b79c",
   "metadata": {},
   "source": [
    "We have a weight matrix W of size dxk and in fine tuning we wil learn a full-rank data:\n",
    "W_ = W + delW but LoRA says delW = B@A where \n",
    "A is R{rxk}, B is R{dxr} and r<<d ---- This is called rank decomposition"
   ]
  },
  {
   "cell_type": "code",
   "execution_count": 2,
   "id": "028fa987-519e-407c-8fba-ca33c0bf5afc",
   "metadata": {},
   "outputs": [],
   "source": [
    "import torch\n",
    "import torch.nn as nn"
   ]
  },
  {
   "cell_type": "code",
   "execution_count": 10,
   "id": "4d39a194-00ed-4b1a-9371-1d685fb87808",
   "metadata": {},
   "outputs": [],
   "source": [
    "class LoRALinear(nn.Module):\n",
    "    def __init__(self, in_features, out_features, r=4, alpha =1.0):\n",
    "        super().__init__()\n",
    "        self.in_features = in_features\n",
    "        self.out_features = out_features\n",
    "        self.r= r\n",
    "        self.alpha = alpha\n",
    "        self.scaling = alpha/r\n",
    "\n",
    "        #origin frozen weight\n",
    "        self.W = nn.Parameter(torch.randn(out_features, in_features), requires_grad= False)\n",
    "        \n",
    "        #LoRA decomposition \n",
    "        self.A = nn.Parameter(torch.randn(r, in_features) *0.01)\n",
    "        self.B = nn.Parameter(torch.randn(out_features, r)*0.01)\n",
    "\n",
    "    def forward(self, x):  # Compute W·x + B·(A·x)\n",
    "        Wx = x @ self.W.T\n",
    "        Ax = x @ self.A.T\n",
    "        B_Ax = Ax @ self.B.T\n",
    "        return Wx + self.scaling*B_Ax"
   ]
  },
  {
   "cell_type": "code",
   "execution_count": 11,
   "id": "d85175f1-8200-4dcf-9f9f-ae6edcaeb3c4",
   "metadata": {},
   "outputs": [
    {
     "data": {
      "text/plain": [
       "tensor([[ 0.6688, -0.4627,  0.5502,  ..., -0.2569,  0.0465,  0.4370],\n",
       "        [-1.5407, -0.6858,  0.6765,  ..., -0.4732,  0.2006,  0.4749]])"
      ]
     },
     "execution_count": 11,
     "metadata": {},
     "output_type": "execute_result"
    }
   ],
   "source": [
    "x = torch.randn(2,512)\n",
    "x"
   ]
  },
  {
   "cell_type": "code",
   "execution_count": 12,
   "id": "6e66b170-3a85-494c-a880-5e093d91f41c",
   "metadata": {},
   "outputs": [
    {
     "name": "stdout",
     "output_type": "stream",
     "text": [
      "tensor([[-29.5931,  23.6739,   6.6331,  ..., -58.6829,   9.6313,   5.0134],\n",
      "        [ -2.2368, -21.6385,  -7.2524,  ..., -46.8917,  35.2674, -40.5402]],\n",
      "       grad_fn=<AddBackward0>)\n"
     ]
    }
   ],
   "source": [
    "lora = LoRALinear(in_features=512, out_features=512, r=8, alpha=16)\n",
    "y = lora(x)\n",
    "print(y)"
   ]
  },
  {
   "cell_type": "code",
   "execution_count": 13,
   "id": "646ffb94-3159-43cb-b397-b6b645dc8f9b",
   "metadata": {},
   "outputs": [
    {
     "data": {
      "text/plain": [
       "torch.Size([2, 512])"
      ]
     },
     "execution_count": 13,
     "metadata": {},
     "output_type": "execute_result"
    }
   ],
   "source": [
    "y.shape"
   ]
  },
  {
   "cell_type": "raw",
   "id": "24370a8e-33d3-4e7f-9a7e-ab00638c59f4",
   "metadata": {},
   "source": [
    "Now as we can see above we are training A and B and their weights will only get updated when using BackPropagation.\n",
    "Also Since we are using two matrix the number of trainable parameters gets reduced to significantly low \n",
    "number.\n",
    "\n",
    "E.g: let d=k=128 and r=8\n",
    "Then:\n",
    "1) Using full fine-tuning the trainable params are dxk = 1048576\n",
    "2) Using LoRA Fine-Tuning the trainable params are rx(d+k) = 16384, which is 64x smaller than original fine-\n",
    "tuning on W"
   ]
  },
  {
   "cell_type": "markdown",
   "id": "a244e0d0-0a38-454c-a5af-ee72d4783073",
   "metadata": {},
   "source": [
    "## Implementing Actual LoRA using HuggingFace and fine-tune a real transformer model to evaluate performance."
   ]
  },
  {
   "cell_type": "code",
   "execution_count": 17,
   "id": "978c5eb5-b34b-432c-af19-89cfd83a2abb",
   "metadata": {},
   "outputs": [
    {
     "name": "stderr",
     "output_type": "stream",
     "text": [
      "/opt/anaconda3/envs/tf-gpu/lib/python3.12/site-packages/tqdm/auto.py:21: TqdmWarning: IProgress not found. Please update jupyter and ipywidgets. See https://ipywidgets.readthedocs.io/en/stable/user_install.html\n",
      "  from .autonotebook import tqdm as notebook_tqdm\n"
     ]
    }
   ],
   "source": [
    "from datasets import load_dataset\n",
    "from transformers import AutoTokenizer"
   ]
  },
  {
   "cell_type": "code",
   "execution_count": 18,
   "id": "d494bf94-39be-4cf7-bcf7-e90b4744a443",
   "metadata": {},
   "outputs": [
    {
     "name": "stderr",
     "output_type": "stream",
     "text": [
      "Generating train split: 100%|██████████████████████████████████████████████████████████████████████████████████████████████████████████████████████████████████████| 25000/25000 [00:00<00:00, 300300.14 examples/s]\n",
      "Generating test split: 100%|███████████████████████████████████████████████████████████████████████████████████████████████████████████████████████████████████████| 25000/25000 [00:00<00:00, 894521.51 examples/s]\n",
      "Generating unsupervised split: 100%|██████████████████████████████████████████████████████████████████████████████████████████████████████████████████████████████| 50000/50000 [00:00<00:00, 1087288.92 examples/s]\n"
     ]
    }
   ],
   "source": [
    "dataset = load_dataset(\"imdb\")\n",
    "tokenizer = AutoTokenizer.from_pretrained(\"bert-base-uncased\")"
   ]
  },
  {
   "cell_type": "code",
   "execution_count": 19,
   "id": "0cd1c4d8-b4b7-43e4-b6f8-716a92a69c93",
   "metadata": {},
   "outputs": [],
   "source": [
    "def tokenize(df):\n",
    "    return tokenizer(df[\"text\"], truncation=True, padding = \"max_length\", max_length=256)"
   ]
  },
  {
   "cell_type": "code",
   "execution_count": 20,
   "id": "8f334162-a3aa-4cd7-b4b3-9363b569ab48",
   "metadata": {},
   "outputs": [
    {
     "name": "stderr",
     "output_type": "stream",
     "text": [
      "Map: 100%|███████████████████████████████████████████████████████████████████████████████████████████████████████████████████████████████████████████████████████████| 25000/25000 [00:03<00:00, 6962.68 examples/s]\n",
      "Map: 100%|███████████████████████████████████████████████████████████████████████████████████████████████████████████████████████████████████████████████████████████| 25000/25000 [00:03<00:00, 7650.64 examples/s]\n",
      "Map: 100%|███████████████████████████████████████████████████████████████████████████████████████████████████████████████████████████████████████████████████████████| 50000/50000 [00:06<00:00, 7398.59 examples/s]\n"
     ]
    }
   ],
   "source": [
    "tokenized = dataset.map(tokenize, batched=True)\n",
    "tokenized = tokenized.rename_column('label', \"labels\")\n",
    "tokenized.set_format(\"torch\", columns=[\"input_ids\", \"attention_mask\", \"labels\"])"
   ]
  },
  {
   "cell_type": "code",
   "execution_count": 21,
   "id": "94085350-71a1-42a6-a577-7592ce262ed8",
   "metadata": {},
   "outputs": [
    {
     "data": {
      "text/plain": [
       "DatasetDict({\n",
       "    train: Dataset({\n",
       "        features: ['text', 'labels', 'input_ids', 'token_type_ids', 'attention_mask'],\n",
       "        num_rows: 25000\n",
       "    })\n",
       "    test: Dataset({\n",
       "        features: ['text', 'labels', 'input_ids', 'token_type_ids', 'attention_mask'],\n",
       "        num_rows: 25000\n",
       "    })\n",
       "    unsupervised: Dataset({\n",
       "        features: ['text', 'labels', 'input_ids', 'token_type_ids', 'attention_mask'],\n",
       "        num_rows: 50000\n",
       "    })\n",
       "})"
      ]
     },
     "execution_count": 21,
     "metadata": {},
     "output_type": "execute_result"
    }
   ],
   "source": [
    "tokenized"
   ]
  },
  {
   "cell_type": "code",
   "execution_count": 22,
   "id": "779ac37f-ece5-47e4-ac02-2d55d66b9e4d",
   "metadata": {},
   "outputs": [],
   "source": [
    "#loading model with PEFT\n",
    "from transformers import AutoModelForSequenceClassification\n",
    "from peft import get_peft_model, LoraConfig, TaskType"
   ]
  },
  {
   "cell_type": "code",
   "execution_count": 23,
   "id": "3295b475-94ea-4135-a4a7-fa6cada82c1b",
   "metadata": {},
   "outputs": [
    {
     "name": "stderr",
     "output_type": "stream",
     "text": [
      "Some weights of BertForSequenceClassification were not initialized from the model checkpoint at bert-base-uncased and are newly initialized: ['classifier.bias', 'classifier.weight']\n",
      "You should probably TRAIN this model on a down-stream task to be able to use it for predictions and inference.\n"
     ]
    }
   ],
   "source": [
    "model = AutoModelForSequenceClassification.from_pretrained(\"bert-base-uncased\")"
   ]
  },
  {
   "cell_type": "code",
   "execution_count": 24,
   "id": "4d5fc1e2-8e44-45d7-b0ad-b68ea54898c9",
   "metadata": {},
   "outputs": [],
   "source": [
    "lora_config = LoraConfig(\n",
    "    r=8,\n",
    "    lora_alpha = 16,\n",
    "    lora_dropout=0.1,\n",
    "    bias=\"none\",\n",
    "    task_type=TaskType.SEQ_CLS\n",
    ")"
   ]
  },
  {
   "cell_type": "code",
   "execution_count": 25,
   "id": "f3dbc94f-e939-4bcc-9024-e1181ff276b7",
   "metadata": {},
   "outputs": [
    {
     "name": "stdout",
     "output_type": "stream",
     "text": [
      "'NoneType' object has no attribute 'cadam32bit_grad_fp32'\n",
      "trainable params: 296,450 || all params: 109,780,228 || trainable%: 0.2700\n"
     ]
    },
    {
     "name": "stderr",
     "output_type": "stream",
     "text": [
      "/opt/anaconda3/envs/tf-gpu/lib/python3.12/site-packages/bitsandbytes/cextension.py:34: UserWarning: The installed version of bitsandbytes was compiled without GPU support. 8-bit optimizers, 8-bit multiplication, and GPU quantization are unavailable.\n",
      "  warn(\"The installed version of bitsandbytes was compiled without GPU support. \"\n"
     ]
    }
   ],
   "source": [
    "model = get_peft_model(model, lora_config)\n",
    "model.print_trainable_parameters()"
   ]
  },
  {
   "cell_type": "code",
   "execution_count": 26,
   "id": "aca69689-29cc-46ea-b260-ea72140a52ed",
   "metadata": {
    "scrolled": true
   },
   "outputs": [
    {
     "data": {
      "text/plain": [
       "PeftModelForSequenceClassification(\n",
       "  (base_model): LoraModel(\n",
       "    (model): BertForSequenceClassification(\n",
       "      (bert): BertModel(\n",
       "        (embeddings): BertEmbeddings(\n",
       "          (word_embeddings): Embedding(30522, 768, padding_idx=0)\n",
       "          (position_embeddings): Embedding(512, 768)\n",
       "          (token_type_embeddings): Embedding(2, 768)\n",
       "          (LayerNorm): LayerNorm((768,), eps=1e-12, elementwise_affine=True)\n",
       "          (dropout): Dropout(p=0.1, inplace=False)\n",
       "        )\n",
       "        (encoder): BertEncoder(\n",
       "          (layer): ModuleList(\n",
       "            (0-11): 12 x BertLayer(\n",
       "              (attention): BertAttention(\n",
       "                (self): BertSdpaSelfAttention(\n",
       "                  (query): lora.Linear(\n",
       "                    (base_layer): Linear(in_features=768, out_features=768, bias=True)\n",
       "                    (lora_dropout): ModuleDict(\n",
       "                      (default): Dropout(p=0.1, inplace=False)\n",
       "                    )\n",
       "                    (lora_A): ModuleDict(\n",
       "                      (default): Linear(in_features=768, out_features=8, bias=False)\n",
       "                    )\n",
       "                    (lora_B): ModuleDict(\n",
       "                      (default): Linear(in_features=8, out_features=768, bias=False)\n",
       "                    )\n",
       "                    (lora_embedding_A): ParameterDict()\n",
       "                    (lora_embedding_B): ParameterDict()\n",
       "                    (lora_magnitude_vector): ModuleDict()\n",
       "                  )\n",
       "                  (key): Linear(in_features=768, out_features=768, bias=True)\n",
       "                  (value): lora.Linear(\n",
       "                    (base_layer): Linear(in_features=768, out_features=768, bias=True)\n",
       "                    (lora_dropout): ModuleDict(\n",
       "                      (default): Dropout(p=0.1, inplace=False)\n",
       "                    )\n",
       "                    (lora_A): ModuleDict(\n",
       "                      (default): Linear(in_features=768, out_features=8, bias=False)\n",
       "                    )\n",
       "                    (lora_B): ModuleDict(\n",
       "                      (default): Linear(in_features=8, out_features=768, bias=False)\n",
       "                    )\n",
       "                    (lora_embedding_A): ParameterDict()\n",
       "                    (lora_embedding_B): ParameterDict()\n",
       "                    (lora_magnitude_vector): ModuleDict()\n",
       "                  )\n",
       "                  (dropout): Dropout(p=0.1, inplace=False)\n",
       "                )\n",
       "                (output): BertSelfOutput(\n",
       "                  (dense): Linear(in_features=768, out_features=768, bias=True)\n",
       "                  (LayerNorm): LayerNorm((768,), eps=1e-12, elementwise_affine=True)\n",
       "                  (dropout): Dropout(p=0.1, inplace=False)\n",
       "                )\n",
       "              )\n",
       "              (intermediate): BertIntermediate(\n",
       "                (dense): Linear(in_features=768, out_features=3072, bias=True)\n",
       "                (intermediate_act_fn): GELUActivation()\n",
       "              )\n",
       "              (output): BertOutput(\n",
       "                (dense): Linear(in_features=3072, out_features=768, bias=True)\n",
       "                (LayerNorm): LayerNorm((768,), eps=1e-12, elementwise_affine=True)\n",
       "                (dropout): Dropout(p=0.1, inplace=False)\n",
       "              )\n",
       "            )\n",
       "          )\n",
       "        )\n",
       "        (pooler): BertPooler(\n",
       "          (dense): Linear(in_features=768, out_features=768, bias=True)\n",
       "          (activation): Tanh()\n",
       "        )\n",
       "      )\n",
       "      (dropout): Dropout(p=0.1, inplace=False)\n",
       "      (classifier): ModulesToSaveWrapper(\n",
       "        (original_module): Linear(in_features=768, out_features=2, bias=True)\n",
       "        (modules_to_save): ModuleDict(\n",
       "          (default): Linear(in_features=768, out_features=2, bias=True)\n",
       "        )\n",
       "      )\n",
       "    )\n",
       "  )\n",
       ")"
      ]
     },
     "execution_count": 26,
     "metadata": {},
     "output_type": "execute_result"
    }
   ],
   "source": [
    "model"
   ]
  },
  {
   "cell_type": "raw",
   "id": "8f027fbd-2c4a-4242-b648-c63448d5ff03",
   "metadata": {},
   "source": [
    "if you see above, you will find the below structures\n",
    " (base_layer): Linear(in_features=768, out_features=768, bias=True)\n",
    "                    (lora_dropout): ModuleDict(\n",
    "                      (default): Dropout(p=0.1, inplace=False)\n",
    "                    )\n",
    "                    (lora_A): ModuleDict(\n",
    "                      (default): Linear(in_features=768, out_features=8, bias=False)\n",
    "                    )\n",
    "                    (lora_B): ModuleDict(\n",
    "                      (default): Linear(in_features=8, out_features=768, bias=False)\n",
    "                    )\n",
    "                    (lora_embedding_A): ParameterDict()\n",
    "                    (lora_embedding_B): ParameterDict()\n",
    "                    (lora_magnitude_vector): ModuleDict()\n",
    "                  )\n",
    "\n",
    "And that's how the model paramerters are reduced to 296450,"
   ]
  },
  {
   "cell_type": "code",
   "execution_count": 31,
   "id": "a9b0929d-f471-4117-8988-7b17caacd7e9",
   "metadata": {
    "scrolled": true
   },
   "outputs": [
    {
     "name": "stdout",
     "output_type": "stream",
     "text": [
      "[LoRA Layer] base_model.model.bert.encoder.layer.0.attention.self.query\n",
      "  Key: default\n",
      "    A.shape: torch.Size([8, 768])\n",
      "    B.shape: torch.Size([768, 8])\n",
      "    scaling: {'default': 2.0}\n",
      "[LoRA Layer] base_model.model.bert.encoder.layer.0.attention.self.value\n",
      "  Key: default\n",
      "    A.shape: torch.Size([8, 768])\n",
      "    B.shape: torch.Size([768, 8])\n",
      "    scaling: {'default': 2.0}\n",
      "[LoRA Layer] base_model.model.bert.encoder.layer.1.attention.self.query\n",
      "  Key: default\n",
      "    A.shape: torch.Size([8, 768])\n",
      "    B.shape: torch.Size([768, 8])\n",
      "    scaling: {'default': 2.0}\n",
      "[LoRA Layer] base_model.model.bert.encoder.layer.1.attention.self.value\n",
      "  Key: default\n",
      "    A.shape: torch.Size([8, 768])\n",
      "    B.shape: torch.Size([768, 8])\n",
      "    scaling: {'default': 2.0}\n",
      "[LoRA Layer] base_model.model.bert.encoder.layer.2.attention.self.query\n",
      "  Key: default\n",
      "    A.shape: torch.Size([8, 768])\n",
      "    B.shape: torch.Size([768, 8])\n",
      "    scaling: {'default': 2.0}\n",
      "[LoRA Layer] base_model.model.bert.encoder.layer.2.attention.self.value\n",
      "  Key: default\n",
      "    A.shape: torch.Size([8, 768])\n",
      "    B.shape: torch.Size([768, 8])\n",
      "    scaling: {'default': 2.0}\n",
      "[LoRA Layer] base_model.model.bert.encoder.layer.3.attention.self.query\n",
      "  Key: default\n",
      "    A.shape: torch.Size([8, 768])\n",
      "    B.shape: torch.Size([768, 8])\n",
      "    scaling: {'default': 2.0}\n",
      "[LoRA Layer] base_model.model.bert.encoder.layer.3.attention.self.value\n",
      "  Key: default\n",
      "    A.shape: torch.Size([8, 768])\n",
      "    B.shape: torch.Size([768, 8])\n",
      "    scaling: {'default': 2.0}\n",
      "[LoRA Layer] base_model.model.bert.encoder.layer.4.attention.self.query\n",
      "  Key: default\n",
      "    A.shape: torch.Size([8, 768])\n",
      "    B.shape: torch.Size([768, 8])\n",
      "    scaling: {'default': 2.0}\n",
      "[LoRA Layer] base_model.model.bert.encoder.layer.4.attention.self.value\n",
      "  Key: default\n",
      "    A.shape: torch.Size([8, 768])\n",
      "    B.shape: torch.Size([768, 8])\n",
      "    scaling: {'default': 2.0}\n",
      "[LoRA Layer] base_model.model.bert.encoder.layer.5.attention.self.query\n",
      "  Key: default\n",
      "    A.shape: torch.Size([8, 768])\n",
      "    B.shape: torch.Size([768, 8])\n",
      "    scaling: {'default': 2.0}\n",
      "[LoRA Layer] base_model.model.bert.encoder.layer.5.attention.self.value\n",
      "  Key: default\n",
      "    A.shape: torch.Size([8, 768])\n",
      "    B.shape: torch.Size([768, 8])\n",
      "    scaling: {'default': 2.0}\n",
      "[LoRA Layer] base_model.model.bert.encoder.layer.6.attention.self.query\n",
      "  Key: default\n",
      "    A.shape: torch.Size([8, 768])\n",
      "    B.shape: torch.Size([768, 8])\n",
      "    scaling: {'default': 2.0}\n",
      "[LoRA Layer] base_model.model.bert.encoder.layer.6.attention.self.value\n",
      "  Key: default\n",
      "    A.shape: torch.Size([8, 768])\n",
      "    B.shape: torch.Size([768, 8])\n",
      "    scaling: {'default': 2.0}\n",
      "[LoRA Layer] base_model.model.bert.encoder.layer.7.attention.self.query\n",
      "  Key: default\n",
      "    A.shape: torch.Size([8, 768])\n",
      "    B.shape: torch.Size([768, 8])\n",
      "    scaling: {'default': 2.0}\n",
      "[LoRA Layer] base_model.model.bert.encoder.layer.7.attention.self.value\n",
      "  Key: default\n",
      "    A.shape: torch.Size([8, 768])\n",
      "    B.shape: torch.Size([768, 8])\n",
      "    scaling: {'default': 2.0}\n",
      "[LoRA Layer] base_model.model.bert.encoder.layer.8.attention.self.query\n",
      "  Key: default\n",
      "    A.shape: torch.Size([8, 768])\n",
      "    B.shape: torch.Size([768, 8])\n",
      "    scaling: {'default': 2.0}\n",
      "[LoRA Layer] base_model.model.bert.encoder.layer.8.attention.self.value\n",
      "  Key: default\n",
      "    A.shape: torch.Size([8, 768])\n",
      "    B.shape: torch.Size([768, 8])\n",
      "    scaling: {'default': 2.0}\n",
      "[LoRA Layer] base_model.model.bert.encoder.layer.9.attention.self.query\n",
      "  Key: default\n",
      "    A.shape: torch.Size([8, 768])\n",
      "    B.shape: torch.Size([768, 8])\n",
      "    scaling: {'default': 2.0}\n",
      "[LoRA Layer] base_model.model.bert.encoder.layer.9.attention.self.value\n",
      "  Key: default\n",
      "    A.shape: torch.Size([8, 768])\n",
      "    B.shape: torch.Size([768, 8])\n",
      "    scaling: {'default': 2.0}\n",
      "[LoRA Layer] base_model.model.bert.encoder.layer.10.attention.self.query\n",
      "  Key: default\n",
      "    A.shape: torch.Size([8, 768])\n",
      "    B.shape: torch.Size([768, 8])\n",
      "    scaling: {'default': 2.0}\n",
      "[LoRA Layer] base_model.model.bert.encoder.layer.10.attention.self.value\n",
      "  Key: default\n",
      "    A.shape: torch.Size([8, 768])\n",
      "    B.shape: torch.Size([768, 8])\n",
      "    scaling: {'default': 2.0}\n",
      "[LoRA Layer] base_model.model.bert.encoder.layer.11.attention.self.query\n",
      "  Key: default\n",
      "    A.shape: torch.Size([8, 768])\n",
      "    B.shape: torch.Size([768, 8])\n",
      "    scaling: {'default': 2.0}\n",
      "[LoRA Layer] base_model.model.bert.encoder.layer.11.attention.self.value\n",
      "  Key: default\n",
      "    A.shape: torch.Size([8, 768])\n",
      "    B.shape: torch.Size([768, 8])\n",
      "    scaling: {'default': 2.0}\n"
     ]
    }
   ],
   "source": [
    "#ALL LoRA modified layers\n",
    "for name, module in model.named_modules():\n",
    "    if hasattr(module, 'lora_A') and hasattr(module,'lora_B'):\n",
    "        print(f\"[LoRA Layer] {name}\")\n",
    "        for key in module.lora_A.keys():\n",
    "            A = module.lora_A[key].weight\n",
    "            B = module.lora_B[key].weight\n",
    "            print(f\"  Key: {key}\")\n",
    "            print(f\"    A.shape: {A.shape}\")\n",
    "            print(f\"    B.shape: {B.shape}\")\n",
    "            print(f\"    scaling: {module.scaling}\")"
   ]
  },
  {
   "cell_type": "raw",
   "id": "c6136b34-a81c-45bc-b950-365dc1085866",
   "metadata": {},
   "source": [
    "As you can see above only value and query are there in LoRA so LoRA is typically injected into query \n",
    "and value projection layer"
   ]
  },
  {
   "cell_type": "code",
   "execution_count": null,
   "id": "be82769b-245e-49b5-9e03-6868a4f096b6",
   "metadata": {},
   "outputs": [],
   "source": []
  },
  {
   "cell_type": "code",
   "execution_count": 28,
   "id": "4d94fbb6-77df-4bb2-953e-c34e7b4091a9",
   "metadata": {},
   "outputs": [
    {
     "name": "stderr",
     "output_type": "stream",
     "text": [
      "No label_names provided for model class `PeftModelForSequenceClassification`. Since `PeftModel` hides base models input arguments, if label_names is not given, label_names can't be set automatically within `Trainer`. Note that empty label_names list will be used instead.\n"
     ]
    }
   ],
   "source": [
    "#Training model\n",
    "from transformers import TrainingArguments, Trainer\n",
    "\n",
    "training_args = TrainingArguments(\n",
    "    output_dir=\"./lora-bert-imdb\",\n",
    "    evaluation_strategy = \"epoch\",\n",
    "    save_strategy=\"epoch\",\n",
    "    per_device_train_batch_size=8,\n",
    "    per_device_eval_batch_size=8,\n",
    "    num_train_epochs=3,\n",
    "    logging_steps=50,\n",
    "    save_total_limit=1,\n",
    "    load_best_model_at_end=True,\n",
    ")\n",
    "\n",
    "trainer = Trainer(\n",
    "    model=model,\n",
    "    args=training_args,\n",
    "    train_dataset=tokenized[\"train\"].shuffle(seed=42).select(range(2000)),  # subset for quick test\n",
    "    eval_dataset=tokenized[\"test\"].select(range(500)),\n",
    ")"
   ]
  },
  {
   "cell_type": "code",
   "execution_count": 29,
   "id": "474604d8-079b-4f29-ad7d-54aa7450b024",
   "metadata": {},
   "outputs": [
    {
     "data": {
      "text/html": [
       "\n",
       "    <div>\n",
       "      \n",
       "      <progress value='750' max='750' style='width:300px; height:20px; vertical-align: middle;'></progress>\n",
       "      [750/750 03:12, Epoch 3/3]\n",
       "    </div>\n",
       "    <table border=\"1\" class=\"dataframe\">\n",
       "  <thead>\n",
       " <tr style=\"text-align: left;\">\n",
       "      <th>Epoch</th>\n",
       "      <th>Training Loss</th>\n",
       "      <th>Validation Loss</th>\n",
       "    </tr>\n",
       "  </thead>\n",
       "  <tbody>\n",
       "    <tr>\n",
       "      <td>1</td>\n",
       "      <td>0.682700</td>\n",
       "      <td>0.668049</td>\n",
       "    </tr>\n",
       "    <tr>\n",
       "      <td>2</td>\n",
       "      <td>0.561800</td>\n",
       "      <td>0.646079</td>\n",
       "    </tr>\n",
       "    <tr>\n",
       "      <td>3</td>\n",
       "      <td>0.357900</td>\n",
       "      <td>0.479176</td>\n",
       "    </tr>\n",
       "  </tbody>\n",
       "</table><p>"
      ],
      "text/plain": [
       "<IPython.core.display.HTML object>"
      ]
     },
     "metadata": {},
     "output_type": "display_data"
    },
    {
     "data": {
      "text/plain": [
       "TrainOutput(global_step=750, training_loss=0.5819360682169596, metrics={'train_runtime': 195.7621, 'train_samples_per_second': 30.649, 'train_steps_per_second': 3.831, 'total_flos': 792065249280000.0, 'train_loss': 0.5819360682169596, 'epoch': 3.0})"
      ]
     },
     "execution_count": 29,
     "metadata": {},
     "output_type": "execute_result"
    }
   ],
   "source": [
    "trainer.train()"
   ]
  },
  {
   "cell_type": "code",
   "execution_count": 33,
   "id": "660dcc5f-bd47-429a-a20e-dc77811c8f52",
   "metadata": {},
   "outputs": [
    {
     "data": {
      "image/png": "[encoded data removed]",
      "text/plain": [
       "<Figure size 800x500 with 1 Axes>"
      ]
     },
     "metadata": {},
     "output_type": "display_data"
    }
   ],
   "source": [
    "import matplotlib.pyplot as plt\n",
    "\n",
    "def plot_param_comparison(d_model=768, r=8):\n",
    "    full_params = d_model * d_model\n",
    "    lora_params = r * (2 * d_model)  # A (r x d), B (d x r)\n",
    "    \n",
    "    plt.figure(figsize=(8, 5))\n",
    "    plt.bar([\"Full Fine-Tuning\", \"LoRA (r=8)\"], [full_params, lora_params], color=[\"orange\", \"skyblue\"])\n",
    "    plt.ylabel(\"Trainable Parameters\")\n",
    "    plt.title(f\"Parameter Comparison (for one {d_model}×{d_model} layer)\")\n",
    "    for i, val in enumerate([full_params, lora_params]):\n",
    "        plt.text(i, val + 1000, f\"{val:,}\", ha='center', fontsize=10)\n",
    "    plt.grid(axis='y', linestyle='--', alpha=0.7)\n",
    "    plt.show()\n",
    "\n",
    "plot_param_comparison()"
   ]
  },
  {
   "cell_type": "code",
   "execution_count": null,
   "id": "2a50f155-b91d-44fa-bb9e-7decf7b73889",
   "metadata": {},
   "outputs": [],
   "source": []
  }
 ],
 "metadata": {
  "kernelspec": {
   "display_name": "Python 3 (ipykernel)",
   "language": "python",
   "name": "python3"
  },
  "language_info": {
   "codemirror_mode": {
    "name": "ipython",
    "version": 3
   },
   "file_extension": ".py",
   "mimetype": "text/x-python",
   "name": "python",
   "nbconvert_exporter": "python",
   "pygments_lexer": "ipython3",
   "version": "3.12.9"
  }
 },
 "nbformat": 4,
 "nbformat_minor": 5
}
