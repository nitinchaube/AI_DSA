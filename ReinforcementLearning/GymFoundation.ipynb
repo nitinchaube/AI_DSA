{
 "cells": [
  {
   "cell_type": "code",
   "execution_count": 12,
   "metadata": {},
   "outputs": [],
   "source": [
    "import gymnasium as gym "
   ]
  },
  {
   "cell_type": "code",
   "execution_count": 13,
   "metadata": {},
   "outputs": [],
   "source": [
    "e = gym.make(\"CartPole-v1\") #creating an env called CartPole-v1"
   ]
  },
  {
   "cell_type": "code",
   "execution_count": 14,
   "metadata": {},
   "outputs": [],
   "source": [
    "obs, info = e.reset()"
   ]
  },
  {
   "cell_type": "code",
   "execution_count": 18,
   "metadata": {},
   "outputs": [
    {
     "data": {
      "text/plain": [
       "array([ 0.00484893,  0.01307242, -0.04240545, -0.01737432], dtype=float32)"
      ]
     },
     "execution_count": 18,
     "metadata": {},
     "output_type": "execute_result"
    }
   ],
   "source": [
    "obs"
   ]
  },
  {
   "cell_type": "code",
   "execution_count": 19,
   "metadata": {},
   "outputs": [
    {
     "data": {
      "text/plain": [
       "Discrete(2)"
      ]
     },
     "execution_count": 19,
     "metadata": {},
     "output_type": "execute_result"
    }
   ],
   "source": [
    "e.action_space"
   ]
  },
  {
   "cell_type": "code",
   "execution_count": 20,
   "metadata": {},
   "outputs": [
    {
     "data": {
      "text/plain": [
       "Box([-4.8               -inf -0.41887903        -inf], [4.8               inf 0.41887903        inf], (4,), float32)"
      ]
     },
     "execution_count": 20,
     "metadata": {},
     "output_type": "execute_result"
    }
   ],
   "source": [
    "e.observation_space"
   ]
  },
  {
   "cell_type": "code",
   "execution_count": 21,
   "metadata": {},
   "outputs": [
    {
     "data": {
      "text/plain": [
       "(array([ 0.00511038, -0.18141654, -0.04275294,  0.2616334 ], dtype=float32),\n",
       " 1.0,\n",
       " False,\n",
       " False,\n",
       " {})"
      ]
     },
     "execution_count": 21,
     "metadata": {},
     "output_type": "execute_result"
    }
   ],
   "source": [
    "#Sending an action to the env\n",
    "e.step(0)"
   ]
  },
  {
   "cell_type": "code",
   "execution_count": 25,
   "metadata": {},
   "outputs": [],
   "source": [
    "env = gym.make(\"CartPole-v1\")\n",
    "total_reward = 0\n",
    "total_steps=0\n",
    "obs, _ = env.reset()"
   ]
  },
  {
   "cell_type": "code",
   "execution_count": 26,
   "metadata": {},
   "outputs": [
    {
     "name": "stdout",
     "output_type": "stream",
     "text": [
      "[-0.03508072 -0.2240229   0.0262647   0.25882196]\n",
      "[-0.03956118 -0.41950977  0.03144114  0.55967206]\n",
      "[-0.04795137 -0.6150586   0.04263458  0.8620925 ]\n",
      "[-0.06025254 -0.81073433  0.05987643  1.1678702 ]\n",
      "[-0.07646723 -1.006582    0.08323383  1.4787084 ]\n",
      "[-0.09659887 -1.2026156   0.112808    1.7961833 ]\n",
      "[-0.12065119 -1.3988055   0.14873166  2.121693  ]\n",
      "[-0.1486273  -1.5950631   0.19116552  2.4563951 ]\n",
      "[-0.18052855 -1.7912236   0.24029343  2.801137  ]\n",
      "Episode done in 9 steps, totalreward 9.00\n"
     ]
    }
   ],
   "source": [
    "while True:\n",
    "    action = env.action_space.sample()\n",
    "    obs, reward, is_done, is_trunc, _ = env.step(action)\n",
    "    print(obs)\n",
    "    total_reward+=reward\n",
    "    total_steps+=1\n",
    "    if is_done:\n",
    "        break\n",
    "\n",
    "print(\"Episode done in %d steps, totalreward %.2f\" % (total_steps, total_reward))"
   ]
  },
  {
   "cell_type": "code",
   "execution_count": null,
   "metadata": {},
   "outputs": [],
   "source": []
  }
 ],
 "metadata": {
  "kernelspec": {
   "display_name": "tf-gpu",
   "language": "python",
   "name": "python3"
  },
  "language_info": {
   "codemirror_mode": {
    "name": "ipython",
    "version": 3
   },
   "file_extension": ".py",
   "mimetype": "text/x-python",
   "name": "python",
   "nbconvert_exporter": "python",
   "pygments_lexer": "ipython3",
   "version": "3.12.9"
  }
 },
 "nbformat": 4,
 "nbformat_minor": 2
}
