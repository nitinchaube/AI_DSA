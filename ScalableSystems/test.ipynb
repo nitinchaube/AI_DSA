{
 "cells": [
  {
   "cell_type": "code",
   "execution_count": 15,
   "metadata": {},
   "outputs": [],
   "source": [
    "from fastapi import FastAPI\n",
    "from pydantic import BaseModel\n",
    "import torch\n",
    "from transformers import BertForSequenceClassification, BertTokenizer\n",
    "import redis\n",
    "import json\n",
    "import hashlib\n",
    "\n",
    "\n",
    "MODEL_PATH = \"./models/multi-class-humanitarian_model\"\n",
    "tokenizer = BertTokenizer.from_pretrained(MODEL_PATH)\n",
    "model = BertForSequenceClassification.from_pretrained(MODEL_PATH)\n",
    "model.eval()\n",
    "label_map = {0:'affected_individuals', 1: 'infrastructure_and_utility_damage', 2: 'injured_or_dead_people', 3:'missing_or_found_people', 4: 'not_humanitarian', 5:'other_relevant_information',6:'rescue_volunteering_or_donation_effort', 7:'vehicle_damage'}\n",
    "\n",
    "\n"
   ]
  },
  {
   "cell_type": "code",
   "execution_count": 19,
   "metadata": {},
   "outputs": [],
   "source": [
    "\n",
    "class TextInput(BaseModel):\n",
    "    text: str\n",
    "\n",
    "def predict(input_data: TextInput):\n",
    "    #caching the key of input\n",
    "    #cache_key = hashlib.sha256(input_data.text.encode()).hexdigest()\n",
    "    #checking redis if the input is already present or not\n",
    "    #cached_result = redis_client.get(cache_key)\n",
    "\n",
    "   #\n",
    "    \n",
    "    #tokenize\n",
    "    inputs = tokenizer(input_data.text, return_tensors=\"pt\", truncation=True, padding=True)\n",
    "\n",
    "    #predict\n",
    "    with torch.no_grad():\n",
    "        outputs = model(**inputs)\n",
    "        logits = outputs.logits\n",
    "        \n",
    "        predicted_class_id = torch.argmax(logits, dim=1).item()\n",
    "        \n",
    "\n",
    "    predicted_label = label_map[predicted_class_id]\n",
    "\n",
    "    result = {\n",
    "        \"class_id\": predicted_class_id,\n",
    "        \"label\": predicted_label\n",
    "    }\n",
    "    return result"
   ]
  },
  {
   "cell_type": "code",
   "execution_count": 20,
   "metadata": {},
   "outputs": [
    {
     "name": "stdout",
     "output_type": "stream",
     "text": [
      "{'class_id': 2, 'label': 'injured_or_dead_people'}\n"
     ]
    }
   ],
   "source": [
    "print(predict(TextInput(text=\"Somethign is wrong and 11 people are injured\")))"
   ]
  },
  {
   "cell_type": "code",
   "execution_count": null,
   "metadata": {},
   "outputs": [],
   "source": []
  }
 ],
 "metadata": {
  "kernelspec": {
   "display_name": "3.11.11",
   "language": "python",
   "name": "python3"
  },
  "language_info": {
   "codemirror_mode": {
    "name": "ipython",
    "version": 3
   },
   "file_extension": ".py",
   "mimetype": "text/x-python",
   "name": "python",
   "nbconvert_exporter": "python",
   "pygments_lexer": "ipython3",
   "version": "3.11.11"
  }
 },
 "nbformat": 4,
 "nbformat_minor": 2
}
